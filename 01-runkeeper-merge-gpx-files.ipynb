{
 "cells": [
  {
   "cell_type": "markdown",
   "metadata": {},
   "source": [
    "While time is a flat circle"
   ]
  },
  {
   "cell_type": "code",
   "execution_count": null,
   "metadata": {
    "collapsed": true
   },
   "outputs": [],
   "source": [
    "Use the ogr2ogr command line tool, that is distributed with QGIS. In Windows, open the OSGeo4W Shell from the QGIS program group and enter\n",
    "\n",
    "for %p in (path_to_gpx_files\\*ride*.gpx) do ogr2ogr path_for_output\\gpx.shp -append %p track_points -fieldTypeToString DateTime\n",
    "\n",
    "The equivalent command in a Unix bash shell would be\n",
    "\n",
    "for i in $( ls path_to_gpx_files/*ride*.gpx ); do ogr2ogr path_for_output/gpx.shp -append $i track_points -fieldTypeToString DateTime; done\n",
    "\n",
    "Make sure the output file (gpx.shp) doesn't exist before, then ogr2ogr will produce one single shapefile from all gpx files with \"ride\" in it. There are some notes about the ogr gpx driver at http://www.gdal.org/drv_gpx.html .\n",
    "\n",
    "shareeditflag\n",
    "\n",
    "\n",
    "http://gis.stackexchange.com/questions/159360/how-to-bulk-import-gpx-files-to-qgis-and-merge-into-a-single-shapefile"
   ]
  },
  {
   "cell_type": "code",
   "execution_count": null,
   "metadata": {
    "collapsed": true
   },
   "outputs": [],
   "source": [
    "for %p in (W:\\GIS\\Data\\Monitoring\\RunKeeper\\runkeeper-data-export-30244759-2015-10-06-1740\\*.gpx) do ogr2ogr W:\\GIS\\Data\\Monitoring\\RunKeeper\\RunKeeper_Points\\RunKeeper_Points.shp -append %p track_points -fieldTypeToString DateTime    "
   ]
  },
  {
   "cell_type": "markdown",
   "metadata": {},
   "source": [
    "![osgoe4w](img/osgeo4w.png)"
   ]
  },
  {
   "cell_type": "code",
   "execution_count": 2,
   "metadata": {
    "collapsed": false
   },
   "outputs": [
    {
     "data": {
      "text/plain": [
       "'/Volumes/Kilo/Dropbox/GIS/Data/Monitoring/RunKeeper/RunKeeper_Points.zip'"
      ]
     },
     "execution_count": 2,
     "metadata": {},
     "output_type": "execute_result"
    }
   ],
   "source": [
    "import shutil\n",
    "\n",
    "shutil.make_archive(\"/Volumes/Kilo/Dropbox/GIS/Data/Monitoring/RunKeeper/RunKeeper_Points\", \"zip\", \"/Volumes/Kilo/Dropbox/GIS/Data/Monitoring/RunKeeper/RunKeeper_Points\")"
   ]
  },
  {
   "cell_type": "markdown",
   "metadata": {},
   "source": [
    "![select_time](img/select_time.png)\n",
    "\n",
    "    SELECT * FROM runkeeper_points \n",
    "    WHERE time > '06/29/2015' AND time <= '06/30/2015'\n",
    "    \n",
    "###Displaying in IPython\n",
    "Next I'll embed an **iframe** of the embeddable map into IPython. More **CartoDB/IPython** integration may be found here: [https://plot.ly/ipython-notebooks/cartodb/](https://plot.ly/ipython-notebooks/cartodb/).\n",
    "\n",
    "\n"
   ]
  },
  {
   "cell_type": "code",
   "execution_count": 13,
   "metadata": {
    "collapsed": false
   },
   "outputs": [
    {
     "data": {
      "text/html": [
       "<iframe width=\"100%\" height=\"520\" frameborder=\"0\" src=\"https://dms2203.cartodb.com/viz/447b9adc-6c57-11e5-9129-0e31c9be1b51/embed_map\" allowfullscreen webkitallowfullscreen mozallowfullscreen oallowfullscreen msallowfullscreen></iframe>"
      ],
      "text/plain": [
       "<IPython.core.display.HTML object>"
      ]
     },
     "execution_count": 13,
     "metadata": {},
     "output_type": "execute_result"
    }
   ],
   "source": [
    "from IPython.display import HTML\n",
    "HTML('<iframe width=\"100%\" height=\"520\" frameborder=\"0\" src=\"https://dms2203.cartodb.com/viz/447b9adc-6c57-11e5-9129-0e31c9be1b51/embed_map\" allowfullscreen webkitallowfullscreen mozallowfullscreen oallowfullscreen msallowfullscreen></iframe>')"
   ]
  },
  {
   "cell_type": "markdown",
   "metadata": {
    "collapsed": true
   },
   "source": [
    "#Next Steps\n",
    "\n",
    "##Time Between\n",
    "\n",
    "##Zoom \n",
    "\n"
   ]
  },
  {
   "cell_type": "code",
   "execution_count": null,
   "metadata": {
    "collapsed": true
   },
   "outputs": [],
   "source": []
  }
 ],
 "metadata": {
  "kernelspec": {
   "display_name": "Python 2",
   "language": "python",
   "name": "python2"
  },
  "language_info": {
   "codemirror_mode": {
    "name": "ipython",
    "version": 2
   },
   "file_extension": ".py",
   "mimetype": "text/x-python",
   "name": "python",
   "nbconvert_exporter": "python",
   "pygments_lexer": "ipython2",
   "version": "2.7.8"
  }
 },
 "nbformat": 4,
 "nbformat_minor": 0
}
