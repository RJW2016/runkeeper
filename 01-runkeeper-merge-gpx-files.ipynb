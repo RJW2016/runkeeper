{
 "cells": [
  {
   "cell_type": "markdown",
   "metadata": {},
   "source": [
    "#Viewing Your [RunKeeper](https://runkeeper.com/) Data in [CartoDB](https://cartodb.com/)\n",
    "[RunKeeper](https://runkeeper.com/) is a great app for recording runs and other workout adventures. While its fun to see your workout on the app, it can also be exported and viewed and analyzed. [CartoDB](https://cartodb.com/) is a great mapping platform for visualizing your data. In this exercise, I'll show the following steps:\n",
    "\n",
    "1. Export your RunKeeper data GPX files. \n",
    "2. Merge all RunKeeper GPX files to a single Shapefile using [GDAL/OGR](http://www.gdal.org/index.html) with [OSGEO4W](http://trac.osgeo.org/osgeo4w/). \n",
    "3. Zip shapefile and upload to CartoDB. \n",
    "4. Select time range (with SQL), style and map your favorite run. \n",
    "\n",
    "##1. Export your RunKeeper data GPX files\n",
    "[![select_time](https://raw.githubusercontent.com/nygeog/runkeeper/master/img/export_runkeeper.png)](https://runkeeper.com/exportDataForm)\n",
    "\n",
    "First off, go out and do some runs with the [RunKeeper app](https://runkeeper.com/). After some runs, [export your RunKeeper Data with this link.](https://runkeeper.com/exportDataForm). Here is a webpage with more information on [how-to export your RunKeeper Data](https://support.runkeeper.com/hc/en-us/articles/201109886-How-to-Export-your-Runkeeper-data).\n",
    "    \n",
    "Unzip the file and note its directory location. "
   ]
  },
  {
   "cell_type": "markdown",
   "metadata": {},
   "source": [
    "##2. Merge all RunKeeper GPX files to a single Shapefile using [GDAL/OGR](http://www.gdal.org/index.html) with [OSGEO4W](http://trac.osgeo.org/osgeo4w/).\n",
    "Any GDAL installation can merge all your files in the folder, for this example I used [OSGEO4Windows](http://trac.osgeo.org/osgeo4w/) as I already had a Windows VM up. You can easily run this on Mac as well. Here is a great resource for this operation from [this StackExchange post](http://gis.stackexchange.com/questions/159360/how-to-bulk-import-gpx-files-to-qgis-and-merge-into-a-single-shapefile).\n",
    "    \n",
    "    for %p in (W:\\GIS\\Data\\Monitoring\\RunKeeper\\runkeeper-data-export-30244759-2015-10-06-1740\\*.gpx) do ogr2ogr W:\\GIS\\Data\\Monitoring\\RunKeeper\\RunKeeper_Points\\RunKeeper_Points.shp -append %p track_points -fieldTypeToString DateTime    \n",
    "    \n",
    "Running the GDAL/OGR in OSGEO4W:\n",
    "![osgoe4w](https://raw.githubusercontent.com/nygeog/runkeeper/master/img/osgeo4w.png)\n",
    "\n",
    "##3. Zip shapefile and upload to CartoDB. \n",
    "Below we are going to zip our shapefile directory up for uploading to CartoDB. "
   ]
  },
  {
   "cell_type": "code",
   "execution_count": 2,
   "metadata": {
    "collapsed": false
   },
   "outputs": [
    {
     "data": {
      "text/plain": [
       "'/Volumes/Kilo/Dropbox/GIS/Data/Monitoring/RunKeeper/RunKeeper_Points.zip'"
      ]
     },
     "execution_count": 2,
     "metadata": {},
     "output_type": "execute_result"
    }
   ],
   "source": [
    "import shutil\n",
    "\n",
    "shutil.make_archive(\"/Volumes/Kilo/Dropbox/GIS/Data/Monitoring/RunKeeper/RunKeeper_Points\", \"zip\", \"/Volumes/Kilo/Dropbox/GIS/Data/Monitoring/RunKeeper/RunKeeper_Points\")"
   ]
  },
  {
   "cell_type": "markdown",
   "metadata": {},
   "source": [
    "![select_time](https://raw.githubusercontent.com/nygeog/runkeeper/master/img/select_time.png)\n",
    "\n",
    "    SELECT * FROM runkeeper_points \n",
    "    WHERE time > '06/29/2015' AND time <= '06/30/2015'\n",
    "    \n",
    "#Displaying in IPython\n",
    "Next I'll embed an **iframe** of the embeddable map into IPython. More **CartoDB/IPython** integration may be found here: [https://plot.ly/ipython-notebooks/cartodb/](https://plot.ly/ipython-notebooks/cartodb/).\n",
    "\n",
    "\n"
   ]
  },
  {
   "cell_type": "code",
   "execution_count": 13,
   "metadata": {
    "collapsed": false
   },
   "outputs": [
    {
     "data": {
      "text/html": [
       "<iframe width=\"100%\" height=\"520\" frameborder=\"0\" src=\"https://dms2203.cartodb.com/viz/447b9adc-6c57-11e5-9129-0e31c9be1b51/embed_map\" allowfullscreen webkitallowfullscreen mozallowfullscreen oallowfullscreen msallowfullscreen></iframe>"
      ],
      "text/plain": [
       "<IPython.core.display.HTML object>"
      ]
     },
     "execution_count": 13,
     "metadata": {},
     "output_type": "execute_result"
    }
   ],
   "source": [
    "from IPython.display import HTML\n",
    "HTML('<iframe width=\"100%\" height=\"520\" frameborder=\"0\" src=\"https://dms2203.cartodb.com/viz/447b9adc-6c57-11e5-9129-0e31c9be1b51/embed_map\" allowfullscreen webkitallowfullscreen mozallowfullscreen oallowfullscreen msallowfullscreen></iframe>')"
   ]
  },
  {
   "cell_type": "markdown",
   "metadata": {
    "collapsed": true
   },
   "source": [
    "#Next Steps\n",
    "\n",
    "##Time between GPS observations\n",
    "\n",
    "![seasonal](https://raw.githubusercontent.com/nygeog/runkeeper/master/img/seasonal.png)\n",
    "\n",
    "\n",
    "##Zoom to events\n",
    "\n"
   ]
  },
  {
   "cell_type": "code",
   "execution_count": null,
   "metadata": {
    "collapsed": true
   },
   "outputs": [],
   "source": []
  }
 ],
 "metadata": {
  "kernelspec": {
   "display_name": "Python 2",
   "language": "python",
   "name": "python2"
  },
  "language_info": {
   "codemirror_mode": {
    "name": "ipython",
    "version": 2
   },
   "file_extension": ".py",
   "mimetype": "text/x-python",
   "name": "python",
   "nbconvert_exporter": "python",
   "pygments_lexer": "ipython2",
   "version": "2.7.8"
  }
 },
 "nbformat": 4,
 "nbformat_minor": 0
}
